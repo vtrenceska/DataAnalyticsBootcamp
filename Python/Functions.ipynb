{
 "cells": [
  {
   "cell_type": "markdown",
   "id": "9f2b8621-7c36-470f-885e-1058a9728212",
   "metadata": {},
   "source": [
    "# Functions"
   ]
  },
  {
   "cell_type": "code",
   "execution_count": 1,
   "id": "6838cec1-4ebd-439c-9c65-f78db399f976",
   "metadata": {},
   "outputs": [],
   "source": [
    "def first_func():\n",
    "    print('We did it!')"
   ]
  },
  {
   "cell_type": "code",
   "execution_count": 3,
   "id": "58c7350c-2a05-4732-acf6-5957e4ea9e21",
   "metadata": {},
   "outputs": [
    {
     "name": "stdout",
     "output_type": "stream",
     "text": [
      "We did it!\n"
     ]
    }
   ],
   "source": [
    "first_func()  # calling the function"
   ]
  },
  {
   "cell_type": "code",
   "execution_count": 4,
   "id": "b182a102-af32-4a59-9b52-5ee3b7001617",
   "metadata": {},
   "outputs": [],
   "source": [
    "def number_squared(number):\n",
    "    print(number**2)"
   ]
  },
  {
   "cell_type": "code",
   "execution_count": 6,
   "id": "cdaed3df-144a-4b0f-894e-101fd7e212c1",
   "metadata": {},
   "outputs": [
    {
     "name": "stdout",
     "output_type": "stream",
     "text": [
      "25\n"
     ]
    }
   ],
   "source": [
    "number_squared(5)"
   ]
  },
  {
   "cell_type": "code",
   "execution_count": 7,
   "id": "fdc7b7dd-9e78-47d2-ab9c-b9798dc555dd",
   "metadata": {},
   "outputs": [],
   "source": [
    "def number_squared_cust(number,power):\n",
    "    print(number**power)"
   ]
  },
  {
   "cell_type": "code",
   "execution_count": 8,
   "id": "93f81581-aa33-474b-9dcc-08bc357e7dee",
   "metadata": {},
   "outputs": [
    {
     "name": "stdout",
     "output_type": "stream",
     "text": [
      "125\n"
     ]
    }
   ],
   "source": [
    "number_squared_cust(5,3)"
   ]
  },
  {
   "cell_type": "code",
   "execution_count": 9,
   "id": "ddfe20b2-f97d-40b7-8c6d-3efec6bfd658",
   "metadata": {},
   "outputs": [],
   "source": [
    "# Arbitrary arguments\n",
    "# (*args)"
   ]
  },
  {
   "cell_type": "code",
   "execution_count": 10,
   "id": "cb15eb92-d3fb-4bf5-a6ac-3b398906abca",
   "metadata": {},
   "outputs": [],
   "source": [
    "def number_args(*number):\n",
    "    print(number[0]*number[1])"
   ]
  },
  {
   "cell_type": "code",
   "execution_count": 12,
   "id": "b272c97b-09dd-40a4-965e-0742b65185b7",
   "metadata": {},
   "outputs": [
    {
     "name": "stdout",
     "output_type": "stream",
     "text": [
      "30\n"
     ]
    }
   ],
   "source": [
    "number_args(5,6,1,2,8)"
   ]
  },
  {
   "cell_type": "code",
   "execution_count": 13,
   "id": "18ebb384-a596-47d1-a586-e95d2e8e3eba",
   "metadata": {},
   "outputs": [],
   "source": [
    "args_tuple = (5,6,1,2,8)\n",
    "\n",
    "def number_args(*number):\n",
    "    print(number[0]*number[1])"
   ]
  },
  {
   "cell_type": "code",
   "execution_count": 16,
   "id": "12d0b62b-e51f-45c3-b815-955bc9d44837",
   "metadata": {},
   "outputs": [
    {
     "name": "stdout",
     "output_type": "stream",
     "text": [
      "30\n"
     ]
    }
   ],
   "source": [
    "number_args(*args_tuple)"
   ]
  },
  {
   "cell_type": "code",
   "execution_count": 20,
   "id": "599d96ed-3558-4669-b968-18303a3c3595",
   "metadata": {},
   "outputs": [],
   "source": [
    "# Keyword arguments"
   ]
  },
  {
   "cell_type": "code",
   "execution_count": 18,
   "id": "11a6ffe9-d49d-4cdd-add5-fca17ec49547",
   "metadata": {},
   "outputs": [],
   "source": [
    "def number_squared_cust(number,power):\n",
    "    print(number**power)"
   ]
  },
  {
   "cell_type": "code",
   "execution_count": 19,
   "id": "91e4af3d-80db-4f6c-b9d1-0b5d123390e8",
   "metadata": {},
   "outputs": [
    {
     "name": "stdout",
     "output_type": "stream",
     "text": [
      "243\n"
     ]
    }
   ],
   "source": [
    "number_squared_cust(power = 5, number = 3)"
   ]
  },
  {
   "cell_type": "code",
   "execution_count": 21,
   "id": "b7115340-6ccb-418c-a159-d49de93b510b",
   "metadata": {},
   "outputs": [],
   "source": [
    "# Arbitrary Keywort arguments"
   ]
  },
  {
   "cell_type": "code",
   "execution_count": 23,
   "id": "831afc00-0480-441a-bc16-8dbdc216f623",
   "metadata": {},
   "outputs": [],
   "source": [
    "def number_kwarg(**number):\n",
    "    print('My number is: ' + number['integer'])"
   ]
  },
  {
   "cell_type": "code",
   "execution_count": 26,
   "id": "40ed6bad-5c8f-4b97-ab0b-17b4e5508079",
   "metadata": {},
   "outputs": [
    {
     "name": "stdout",
     "output_type": "stream",
     "text": [
      "My number is: 2309\n"
     ]
    }
   ],
   "source": [
    "number_kwarg(integer = '2309')"
   ]
  },
  {
   "cell_type": "code",
   "execution_count": 29,
   "id": "8662fc7e-32bc-4200-84c9-641f997b8b3f",
   "metadata": {},
   "outputs": [],
   "source": [
    "def number_kwarg(**number):\n",
    "    print('My number is: ' + number['integer'] + ' My other number: ' + number['integer2'])"
   ]
  },
  {
   "cell_type": "code",
   "execution_count": 30,
   "id": "da4fc64c-a305-4666-ba53-6d864a5c8e6c",
   "metadata": {},
   "outputs": [
    {
     "name": "stdout",
     "output_type": "stream",
     "text": [
      "My number is: 2309 My other number: 349\n"
     ]
    }
   ],
   "source": [
    "number_kwarg(integer = '2309', integer2 = '349')"
   ]
  }
 ],
 "metadata": {
  "kernelspec": {
   "display_name": "Python 3 (ipykernel)",
   "language": "python",
   "name": "python3"
  },
  "language_info": {
   "codemirror_mode": {
    "name": "ipython",
    "version": 3
   },
   "file_extension": ".py",
   "mimetype": "text/x-python",
   "name": "python",
   "nbconvert_exporter": "python",
   "pygments_lexer": "ipython3",
   "version": "3.11.7"
  }
 },
 "nbformat": 4,
 "nbformat_minor": 5
}
