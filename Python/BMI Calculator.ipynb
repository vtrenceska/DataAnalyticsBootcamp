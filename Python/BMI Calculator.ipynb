{
 "cells": [
  {
   "cell_type": "markdown",
   "id": "e9f13562-9cf8-4d63-ad01-01fe128eb22a",
   "metadata": {},
   "source": [
    "# BMI Calculator"
   ]
  },
  {
   "cell_type": "code",
   "execution_count": 1,
   "id": "81781519-0f69-4525-80b0-42c7ba9f5f13",
   "metadata": {},
   "outputs": [],
   "source": [
    "# BMI = (weight in pounds x 703) / (height in inches x height in inches)"
   ]
  },
  {
   "cell_type": "code",
   "execution_count": 33,
   "id": "88df2c45-55dc-4a47-a28b-9984f4c93c4c",
   "metadata": {},
   "outputs": [
    {
     "name": "stdin",
     "output_type": "stream",
     "text": [
      "Enter your name:  Name\n",
      "Enter your weight in pounds:  170\n",
      "Enter your height in inches:  69\n"
     ]
    },
    {
     "name": "stdout",
     "output_type": "stream",
     "text": [
      "25.101869355177485\n",
      "Name, you are overweight.\n"
     ]
    }
   ],
   "source": [
    "name = input(\"Enter your name: \")\n",
    "\n",
    "weight = int(input(\"Enter your weight in pounds: \"))\n",
    "\n",
    "height = int(input(\"Enter your height in inches: \"))\n",
    "\n",
    "BMI = (weight * 703) / (height * height)\n",
    "\n",
    "print(BMI)\n",
    "\n",
    "if BMI > 0:\n",
    "    if(BMI < 18.5):\n",
    "        print(name + \", you are underweight.\")\n",
    "    elif(BMI <= 24.9):\n",
    "        print(name + \", you are normal weight.\")\n",
    "    elif(BMI < 29.9):\n",
    "        print(name + \", you are overweight.\")\n",
    "    elif(BMI < 34.9):\n",
    "        print(name + \", you are obese.\")\n",
    "    elif(BMI < 39.9):\n",
    "        print(name + \", you are severely obese.\")\n",
    "    else:\n",
    "        print(name + \", you are morbidly obese.\")\n",
    "else:\n",
    "    print(\"Enter valid input\")"
   ]
  },
  {
   "cell_type": "code",
   "execution_count": null,
   "id": "3f4a3224-036a-4ce7-b10b-e4a98ee431d5",
   "metadata": {},
   "outputs": [],
   "source": []
  }
 ],
 "metadata": {
  "kernelspec": {
   "display_name": "Python 3 (ipykernel)",
   "language": "python",
   "name": "python3"
  },
  "language_info": {
   "codemirror_mode": {
    "name": "ipython",
    "version": 3
   },
   "file_extension": ".py",
   "mimetype": "text/x-python",
   "name": "python",
   "nbconvert_exporter": "python",
   "pygments_lexer": "ipython3",
   "version": "3.11.7"
  }
 },
 "nbformat": 4,
 "nbformat_minor": 5
}
